{
 "cells": [
  {
   "cell_type": "markdown",
   "id": "97bdc7e2",
   "metadata": {},
   "source": [
    "## Debug exercise\n",
    "\n",
    "The functions below convert Eucledian coordinates to [homogenious](https://en.wikipedia.org/wiki/Homogeneous_coordinates). \n",
    "However, the functions sometimes return NaNs. \n",
    "Find the cause for this, create a minimal reproducing example, discuss the possible fixes and fix the issue."
   ]
  },
  {
   "cell_type": "code",
   "execution_count": 2,
   "id": "1fc12fd7",
   "metadata": {},
   "outputs": [],
   "source": [
    "import torch\n",
    "import torch.nn as nn\n",
    "import torch.nn.functional as F\n",
    "\n",
    "\n",
    "\n",
    "def convert_points_to_homogeneous(points):\n",
    "    r\"\"\"Function that converts points from Euclidean to homogeneous space.\n",
    "    See :class:`~torchgeometry.ConvertPointsToHomogeneous` for details.\n",
    "    Examples::\n",
    "        >>> inp = torch.rand(2, 4, 3)  # BxNx3\n",
    "        >>> output = convert_points_to_homogeneous(inp)  # BxNx4\n",
    "    \"\"\"\n",
    "    if not torch.is_tensor(points):\n",
    "        raise TypeError(\"Input type is not a torch.Tensor. Got {}\".format(\n",
    "            type(points)))\n",
    "    if len(points.shape) < 2:\n",
    "        raise ValueError(\"Input must be at least a 2D tensor. Got {}\".format(\n",
    "            points.shape))\n",
    "\n",
    "    return F.pad(points, (0, 1), \"constant\", 1.0)\n",
    "\n",
    "\n",
    "\n",
    "def convert_points_from_homogeneous(points: torch.Tensor) -> torch.Tensor:\n",
    "    r\"\"\"Function that converts points from homogeneous to Euclidean space.\n",
    "    See :class:`~torchgeometry.ConvertPointsFromHomogeneous` for details.\n",
    "    Examples::\n",
    "        >>> inp = torch.rand(2, 4, 3)  # BxNx3\n",
    "        >>> output = convert_points_from_homogeneous(inp)  # BxNx2\n",
    "    \"\"\"\n",
    "    if not torch.is_tensor(points):\n",
    "        raise TypeError(\"Input type is not a torch.Tensor. Got {}\".format(\n",
    "            type(points)))\n",
    "    if len(points.shape) < 2:\n",
    "        raise ValueError(\"Input must be at least a 2D tensor. Got {}\".format(\n",
    "            points.shape))\n",
    "\n",
    "    return points[..., :-1] / points[..., -1:]"
   ]
  },
  {
   "cell_type": "code",
   "execution_count": 39,
   "id": "eeaf74cb",
   "metadata": {},
   "outputs": [
    {
     "name": "stdout",
     "output_type": "stream",
     "text": [
      "tensor([[[0.6352, 0.0822, 0.6038, 1.0000],\n",
      "         [0.9194, 0.1935, 0.7785, 1.0000],\n",
      "         [0.1535, 0.9175, 0.5523, 1.0000],\n",
      "         [0.6233, 0.5845, 0.0684, 1.0000]],\n",
      "\n",
      "        [[0.9977, 0.3554, 0.8924, 1.0000],\n",
      "         [0.2165, 0.9018, 0.6916, 1.0000],\n",
      "         [0.6659, 0.1310, 0.6085, 1.0000],\n",
      "         [0.1994, 0.4598, 0.1362, 1.0000]]])\n",
      "tensor([[[1, 1, 1, 1],\n",
      "         [1, 1, 1, 1],\n",
      "         [1, 1, 1, 1],\n",
      "         [1, 1, 1, 1]],\n",
      "\n",
      "        [[1, 1, 1, 1],\n",
      "         [1, 1, 1, 1],\n",
      "         [1, 1, 1, 1],\n",
      "         [1, 1, 1, 1]]])\n",
      "tensor([[[1., 1., 1.],\n",
      "         [1., 1., 1.],\n",
      "         [1., 1., 1.],\n",
      "         [1., 1., 1.]],\n",
      "\n",
      "        [[1., 1., 1.],\n",
      "         [1., 1., 1.],\n",
      "         [1., 1., 1.],\n",
      "         [1., 1., 1.]]])\n"
     ]
    }
   ],
   "source": [
    "inp = torch.rand(2, 4, 3)\n",
    "h_points = convert_points_to_homogeneous(inp)\n",
    "\n",
    "print(h_points)\n",
    "\n",
    "h_points = torch.tensor([[\n",
    "    [1, 1, 1, 1],\n",
    "    [1, 1, 1, 1],\n",
    "    [1, 1, 1, 1],\n",
    "    [1, 1, 1, 1],\n",
    "],\n",
    "[\n",
    "    [1, 1, 1, 1],\n",
    "    [1, 1, 1, 1],\n",
    "    [1, 1, 1, 1],\n",
    "    [1, 1, 1, 1],\n",
    "]])\n",
    "\n",
    "print(h_points)\n",
    "\n",
    "point = convert_points_from_homogeneous(h_points)\n",
    "\n",
    "print(point)\n",
    "\n",
    "# torch.testing.assert_close(point, inp)"
   ]
  }
 ],
 "metadata": {
  "kernelspec": {
   "display_name": "Python 3 (ipykernel)",
   "language": "python",
   "name": "python3"
  },
  "language_info": {
   "codemirror_mode": {
    "name": "ipython",
    "version": 3
   },
   "file_extension": ".py",
   "mimetype": "text/x-python",
   "name": "python",
   "nbconvert_exporter": "python",
   "pygments_lexer": "ipython3",
   "version": "3.9.6"
  }
 },
 "nbformat": 4,
 "nbformat_minor": 5
}
